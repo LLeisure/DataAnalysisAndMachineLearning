{
 "cells": [
  {
   "cell_type": "code",
   "execution_count": 2,
   "metadata": {},
   "outputs": [
    {
     "name": "stdout",
     "output_type": "stream",
     "text": [
      "[0.         1.         1.41421356]\n"
     ]
    }
   ],
   "source": [
    "import numpy as np\n",
    "B = np.arange(3)\n",
    "# print\n",
    "#print np.exp(B)\n",
    "print(np.sqrt(B))"
   ]
  },
  {
   "cell_type": "code",
   "execution_count": 7,
   "metadata": {},
   "outputs": [
    {
     "name": "stdout",
     "output_type": "stream",
     "text": [
      "[[5. 1. 5. 4.]\n",
      " [9. 3. 6. 3.]\n",
      " [8. 5. 4. 6.]]\n",
      "None\n",
      "[[5. 1. 5. 4. 9. 3.]\n",
      " [6. 3. 8. 5. 4. 6.]]\n",
      "[[5. 1. 5. 4. 9. 3.]\n",
      " [6. 3. 8. 5. 4. 6.]]\n"
     ]
    }
   ],
   "source": [
    "#Return the floor of the input\n",
    "a = np.floor(10*np.random.random((3,4)))  # 向下取整\n",
    "print(a)\n",
    "\n",
    "a.shape\n",
    "## flatten the array\n",
    "a.ravel()\n",
    "a.shape = (6, 2)\n",
    "#print a \n",
    "#print a.T\n",
    "print(a.resize((2,6)))\n",
    "print(a)\n",
    "\n",
    "#If a dimension is given as -1 in a reshaping operation, the other dimensions are automatically calculated:\n",
    "a.reshape(3,-1)\n",
    "print(a)"
   ]
  },
  {
   "cell_type": "code",
   "execution_count": 6,
   "metadata": {},
   "outputs": [
    {
     "data": {
      "text/plain": [
       "array([[3., 0.],\n",
       "       [8., 5.],\n",
       "       [8., 2.],\n",
       "       [7., 7.],\n",
       "       [1., 1.],\n",
       "       [8., 3.]])"
      ]
     },
     "execution_count": 6,
     "metadata": {},
     "output_type": "execute_result"
    }
   ],
   "source": [
    "a.T"
   ]
  },
  {
   "cell_type": "code",
   "execution_count": 9,
   "metadata": {},
   "outputs": [
    {
     "name": "stdout",
     "output_type": "stream",
     "text": [
      "[[1. 7.]\n",
      " [9. 3.]]\n",
      "---\n",
      "[[1. 9.]\n",
      " [5. 7.]]\n",
      "---\n",
      "[[1. 7. 1. 9.]\n",
      " [9. 3. 5. 7.]]\n"
     ]
    }
   ],
   "source": [
    "a = np.floor(10*np.random.random((2,2)))\n",
    "b = np.floor(10*np.random.random((2,2)))\n",
    "print(a)\n",
    "print('---')\n",
    "print(b)\n",
    "print('---')\n",
    "print(np.hstack((a,b))) # 拼接数组\n",
    "#np.hstack((a,b))"
   ]
  },
  {
   "cell_type": "code",
   "execution_count": 11,
   "metadata": {},
   "outputs": [
    {
     "data": {
      "text/plain": [
       "array([[1., 7.],\n",
       "       [9., 3.],\n",
       "       [1., 9.],\n",
       "       [5., 7.]])"
      ]
     },
     "execution_count": 11,
     "metadata": {},
     "output_type": "execute_result"
    }
   ],
   "source": [
    "np.vstack((a, b))"
   ]
  },
  {
   "cell_type": "code",
   "execution_count": 21,
   "metadata": {},
   "outputs": [
    {
     "name": "stdout",
     "output_type": "stream",
     "text": [
      "[[3. 3. 2. 9. 2. 7. 4. 4. 6. 4. 0. 6.]\n",
      " [9. 1. 6. 7. 3. 1. 6. 8. 6. 5. 4. 7.]]\n",
      "[array([[3., 3., 2., 9.],\n",
      "       [9., 1., 6., 7.]]), array([[2., 7., 4., 4.],\n",
      "       [3., 1., 6., 8.]]), array([[6., 4., 0., 6.],\n",
      "       [6., 5., 4., 7.]])]\n",
      "[array([[3., 3., 2.],\n",
      "       [9., 1., 6.]]), array([[9.],\n",
      "       [7.]]), array([[2., 7., 4., 4., 6., 4., 0., 6.],\n",
      "       [3., 1., 6., 8., 6., 5., 4., 7.]])]\n",
      "[[6. 7.]\n",
      " [1. 5.]\n",
      " [5. 6.]\n",
      " [0. 9.]\n",
      " [4. 1.]\n",
      " [3. 4.]\n",
      " [7. 0.]\n",
      " [3. 4.]\n",
      " [9. 5.]\n",
      " [9. 2.]\n",
      " [5. 6.]\n",
      " [4. 6.]]\n"
     ]
    },
    {
     "data": {
      "text/plain": [
       "[array([[6., 7.],\n",
       "        [1., 5.],\n",
       "        [5., 6.],\n",
       "        [0., 9.]]), array([[4., 1.],\n",
       "        [3., 4.],\n",
       "        [7., 0.],\n",
       "        [3., 4.]]), array([[9., 5.],\n",
       "        [9., 2.],\n",
       "        [5., 6.],\n",
       "        [4., 6.]])]"
      ]
     },
     "execution_count": 21,
     "metadata": {},
     "output_type": "execute_result"
    }
   ],
   "source": [
    "a = np.floor(10*np.random.random((2,12)))\n",
    "print(a)\n",
    "print(np.hsplit(a,3))  #分割\n",
    "print(np.hsplit(a,(3,4)))    # Split a after the third and the fourth column\n",
    "a = np.floor(10*np.random.random((12,2)))\n",
    "print(a)\n",
    "np.vsplit(a,3)"
   ]
  },
  {
   "cell_type": "code",
   "execution_count": 15,
   "metadata": {},
   "outputs": [
    {
     "data": {
      "text/plain": [
       "array([[8., 7., 3., 9., 5., 8., 9., 5., 4., 1., 5., 2.],\n",
       "       [0., 3., 1., 9., 7., 3., 5., 2., 1., 0., 4., 6.]])"
      ]
     },
     "execution_count": 15,
     "metadata": {},
     "output_type": "execute_result"
    }
   ],
   "source": [
    "x = np.floor(10*np.random.random((2,12)))\n",
    "x"
   ]
  },
  {
   "cell_type": "code",
   "execution_count": 24,
   "metadata": {},
   "outputs": [
    {
     "name": "stdout",
     "output_type": "stream",
     "text": [
      "[ 0  1  2  3  4  5  6  7  8  9 10 11]\n",
      "True\n",
      "(3, 4)\n",
      "2178561536048\n",
      "2178561536048\n"
     ]
    }
   ],
   "source": [
    "#Simple assignments make no copy of array objects or of their data.\n",
    "a = np.arange(12)\n",
    "print(a)\n",
    "b = a\n",
    "# a and b are two names for the same ndarray object\n",
    "print(b is a)\n",
    "b.shape = 3,4\n",
    "print(a.shape)\n",
    "print(id(a))\n",
    "print(id(b))"
   ]
  },
  {
   "cell_type": "code",
   "execution_count": 43,
   "metadata": {},
   "outputs": [
    {
     "data": {
      "text/plain": [
       "array([[   0,    1,    2,    3],\n",
       "       [1234,    5,    6,    7],\n",
       "       [   8,    9,   10,   11]])"
      ]
     },
     "execution_count": 43,
     "metadata": {},
     "output_type": "execute_result"
    }
   ],
   "source": [
    "#The view method creates a new array object that looks at the same data.\n",
    "c = a.view() # 浅复制\n",
    "c is a\n",
    "c.shape = 2,6\n",
    "#print a.shape\n",
    "c[0,4] = 1234\n",
    "a"
   ]
  },
  {
   "cell_type": "code",
   "execution_count": 46,
   "metadata": {},
   "outputs": [
    {
     "name": "stdout",
     "output_type": "stream",
     "text": [
      "[[9999    1    2    3]\n",
      " [1234    5    6    7]\n",
      " [   8    9   10   11]]\n",
      "[[   0    1    2    3]\n",
      " [1234    5    6    7]\n",
      " [   8    9   10   11]]\n"
     ]
    }
   ],
   "source": [
    "#The copy method makes a complete copy of the array and its data.\n",
    "d = a.copy() \n",
    "d is a\n",
    "d[0,0] = 9999\n",
    "print d \n",
    "print a"
   ]
  },
  {
   "cell_type": "code",
   "execution_count": null,
   "metadata": {
    "collapsed": true
   },
   "outputs": [],
   "source": []
  }
 ],
 "metadata": {
  "kernelspec": {
   "display_name": "Python 3",
   "language": "python",
   "name": "python3"
  },
  "language_info": {
   "codemirror_mode": {
    "name": "ipython",
    "version": 3
   },
   "file_extension": ".py",
   "mimetype": "text/x-python",
   "name": "python",
   "nbconvert_exporter": "python",
   "pygments_lexer": "ipython3",
   "version": "3.6.8"
  }
 },
 "nbformat": 4,
 "nbformat_minor": 1
}
